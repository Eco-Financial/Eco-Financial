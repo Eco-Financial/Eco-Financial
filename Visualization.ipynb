{
 "cells": [
  {
   "cell_type": "markdown",
   "id": "described-uganda",
   "metadata": {},
   "source": [
    "# Tableau 슬라이드"
   ]
  },
  {
   "cell_type": "markdown",
   "id": "continuing-laundry",
   "metadata": {},
   "source": [
    "<div class='tableauPlaceholder' id='viz1631166811516' style='position: relative'><noscript><a href='#'><img alt='재정데이터 시각화 경진대회 ' src='https:&#47;&#47;public.tableau.com&#47;static&#47;images&#47;2W&#47;2WHZDRJZ8&#47;1_rss.png' style='border: none' /></a></noscript><object class='tableauViz'  style='display:none;'><param name='host_url' value='https%3A%2F%2Fpublic.tableau.com%2F' /> <param name='embed_code_version' value='3' /> <param name='path' value='shared&#47;2WHZDRJZ8' /> <param name='toolbar' value='yes' /><param name='static_image' value='https:&#47;&#47;public.tableau.com&#47;static&#47;images&#47;2W&#47;2WHZDRJZ8&#47;1.png' /> <param name='animate_transition' value='yes' /><param name='display_static_image' value='yes' /><param name='display_spinner' value='yes' /><param name='display_overlay' value='yes' /><param name='display_count' value='yes' /><param name='language' value='ko-KR' /><param name='filter' value='publish=yes' /></object></div>                <script type='text/javascript'>                    var divElement = document.getElementById('viz1631166811516');                    var vizElement = divElement.getElementsByTagName('object')[0];                    vizElement.style.width='1000px';vizElement.style.height='827px';                    var scriptElement = document.createElement('script');                    scriptElement.src = 'https://public.tableau.com/javascripts/api/viz_v1.js';                    vizElement.parentNode.insertBefore(scriptElement, vizElement);                </script>"
   ]
  },
  {
   "cell_type": "code",
   "execution_count": 2,
   "id": "valid-motel",
   "metadata": {},
   "outputs": [],
   "source": [
    "import matplotlib.pyplot as plt\n",
    "import pandas as pd\n",
    "import seaborn as sns\n",
    "import warnings\n",
    "from wordcloud import WordCloud"
   ]
  },
  {
   "cell_type": "code",
   "execution_count": 3,
   "id": "unsigned-windsor",
   "metadata": {},
   "outputs": [],
   "source": [
    "plt.rc('font', family='Malgun Gothic')\n",
    "warnings.filterwarnings(action='ignore')"
   ]
  },
  {
   "cell_type": "markdown",
   "id": "executive-payday",
   "metadata": {},
   "source": [
    "# 그래프1"
   ]
  },
  {
   "cell_type": "code",
   "execution_count": 3,
   "id": "described-pollution",
   "metadata": {},
   "outputs": [
    {
     "data": {
      "text/html": [
       "<div>\n",
       "<style scoped>\n",
       "    .dataframe tbody tr th:only-of-type {\n",
       "        vertical-align: middle;\n",
       "    }\n",
       "\n",
       "    .dataframe tbody tr th {\n",
       "        vertical-align: top;\n",
       "    }\n",
       "\n",
       "    .dataframe thead th {\n",
       "        text-align: right;\n",
       "    }\n",
       "</style>\n",
       "<table border=\"1\" class=\"dataframe\">\n",
       "  <thead>\n",
       "    <tr style=\"text-align: right;\">\n",
       "      <th></th>\n",
       "      <th>회계년도</th>\n",
       "      <th>소관명</th>\n",
       "      <th>국회확정금액(천원)</th>\n",
       "    </tr>\n",
       "  </thead>\n",
       "  <tbody>\n",
       "    <tr>\n",
       "      <th>0</th>\n",
       "      <td>2019</td>\n",
       "      <td>대통령비서실 및 국가안보실</td>\n",
       "      <td>40443000</td>\n",
       "    </tr>\n",
       "    <tr>\n",
       "      <th>1</th>\n",
       "      <td>2019</td>\n",
       "      <td>대통령비서실 및 국가안보실</td>\n",
       "      <td>19431000</td>\n",
       "    </tr>\n",
       "    <tr>\n",
       "      <th>2</th>\n",
       "      <td>2019</td>\n",
       "      <td>대통령비서실 및 국가안보실</td>\n",
       "      <td>16392000</td>\n",
       "    </tr>\n",
       "    <tr>\n",
       "      <th>3</th>\n",
       "      <td>2019</td>\n",
       "      <td>대통령비서실 및 국가안보실</td>\n",
       "      <td>4491000</td>\n",
       "    </tr>\n",
       "    <tr>\n",
       "      <th>4</th>\n",
       "      <td>2019</td>\n",
       "      <td>대통령비서실 및 국가안보실</td>\n",
       "      <td>4782000</td>\n",
       "    </tr>\n",
       "    <tr>\n",
       "      <th>...</th>\n",
       "      <td>...</td>\n",
       "      <td>...</td>\n",
       "      <td>...</td>\n",
       "    </tr>\n",
       "    <tr>\n",
       "      <th>24711</th>\n",
       "      <td>2021</td>\n",
       "      <td>가습기살균제사건과 4・16세월호참사 특별조사위원회</td>\n",
       "      <td>691000</td>\n",
       "    </tr>\n",
       "    <tr>\n",
       "      <th>24712</th>\n",
       "      <td>2021</td>\n",
       "      <td>가습기살균제사건과 4・16세월호참사 특별조사위원회</td>\n",
       "      <td>2371000</td>\n",
       "    </tr>\n",
       "    <tr>\n",
       "      <th>24713</th>\n",
       "      <td>2021</td>\n",
       "      <td>5・18민주화운동 진상규명조사위원회</td>\n",
       "      <td>2493000</td>\n",
       "    </tr>\n",
       "    <tr>\n",
       "      <th>24714</th>\n",
       "      <td>2021</td>\n",
       "      <td>5・18민주화운동 진상규명조사위원회</td>\n",
       "      <td>3672000</td>\n",
       "    </tr>\n",
       "    <tr>\n",
       "      <th>24715</th>\n",
       "      <td>2021</td>\n",
       "      <td>5・18민주화운동 진상규명조사위원회</td>\n",
       "      <td>4022000</td>\n",
       "    </tr>\n",
       "  </tbody>\n",
       "</table>\n",
       "<p>24716 rows × 3 columns</p>\n",
       "</div>"
      ],
      "text/plain": [
       "       회계년도                          소관명  국회확정금액(천원)\n",
       "0      2019               대통령비서실 및 국가안보실    40443000\n",
       "1      2019               대통령비서실 및 국가안보실    19431000\n",
       "2      2019               대통령비서실 및 국가안보실    16392000\n",
       "3      2019               대통령비서실 및 국가안보실     4491000\n",
       "4      2019               대통령비서실 및 국가안보실     4782000\n",
       "...     ...                          ...         ...\n",
       "24711  2021  가습기살균제사건과 4・16세월호참사 특별조사위원회      691000\n",
       "24712  2021  가습기살균제사건과 4・16세월호참사 특별조사위원회     2371000\n",
       "24713  2021          5・18민주화운동 진상규명조사위원회     2493000\n",
       "24714  2021          5・18민주화운동 진상규명조사위원회     3672000\n",
       "24715  2021          5・18민주화운동 진상규명조사위원회     4022000\n",
       "\n",
       "[24716 rows x 3 columns]"
      ]
     },
     "execution_count": 3,
     "metadata": {},
     "output_type": "execute_result"
    }
   ],
   "source": [
    "budget_df = pd.read_csv(r\"budget.csv\")\n",
    "budget_df.astype({'국회확정금액(천원)': 'int64'})"
   ]
  },
  {
   "cell_type": "code",
   "execution_count": 4,
   "id": "elementary-distributor",
   "metadata": {},
   "outputs": [],
   "source": [
    "group_df = budget_df.groupby([\"회계년도\", \"소관명\"], as_index=False)[\"국회확정금액(천원)\"].sum()"
   ]
  },
  {
   "cell_type": "code",
   "execution_count": 5,
   "id": "greenhouse-zoning",
   "metadata": {},
   "outputs": [],
   "source": [
    "budget_sum = budget_df.groupby(['회계년도'], as_index=False)['국회확정금액(천원)'].sum().set_index('회계년도')\n",
    "\n",
    "year = group_df['회계년도']\n",
    "budget = group_df[group_df['소관명'].isin(['환경부', '산업통상자원부', '과학기술정보통신부', '농림축산식품부'])].set_index('회계년도')\n",
    "budget['소관예산/전체예산(%)'] = round(budget['국회확정금액(천원)'].div(budget_sum['국회확정금액(천원)'])*100,2)"
   ]
  },
  {
   "cell_type": "code",
   "execution_count": 6,
   "id": "tropical-personal",
   "metadata": {
    "scrolled": true
   },
   "outputs": [
    {
     "data": {
      "image/png": "[encoded data removed]",
      "text/plain": [
       "<Figure size 720x360 with 1 Axes>"
      ]
     },
     "metadata": {
      "needs_background": "light"
     },
     "output_type": "display_data"
    }
   ],
   "source": [
    "x_label = ['2019', '2020', '2021']\n",
    "env_budget = budget[budget['소관명'] == '환경부']['소관예산/전체예산(%)']\n",
    "sci_budget = budget[budget['소관명'] == '과학기술정보통신부']['소관예산/전체예산(%)']\n",
    "for_budget = budget[budget['소관명'] == '농림축산식품부']['소관예산/전체예산(%)']\n",
    "ind_budget = budget[budget['소관명'] == '산업통상자원부']['소관예산/전체예산(%)']\n",
    "\n",
    "\n",
    "fig = plt.figure(figsize=(10,5))\n",
    "plt.ylabel('')\n",
    "plt.xlabel('년도')\n",
    "plt.title('년도별 부서별 예산비율(%)')\n",
    "plt.ylim(0, 3)\n",
    "plt.plot(x_label, env_budget, label='환경부', marker='o')\n",
    "plt.plot(x_label, sci_budget, label='과학기술정보통신부', marker='o')\n",
    "plt.plot(x_label, for_budget, label='농림축산식품부', marker='o')\n",
    "plt.plot(x_label, ind_budget, label='산업통상자원부', marker='o')\n",
    "plt.legend(loc='best')\n",
    "plt.show()"
   ]
  },
  {
   "cell_type": "markdown",
   "id": "regional-celebration",
   "metadata": {},
   "source": [
    "# 그래프3"
   ]
  },
  {
   "cell_type": "code",
   "execution_count": 7,
   "id": "driving-domestic",
   "metadata": {},
   "outputs": [
    {
     "data": {
      "text/html": [
       "<div>\n",
       "<style scoped>\n",
       "    .dataframe tbody tr th:only-of-type {\n",
       "        vertical-align: middle;\n",
       "    }\n",
       "\n",
       "    .dataframe tbody tr th {\n",
       "        vertical-align: top;\n",
       "    }\n",
       "\n",
       "    .dataframe thead th {\n",
       "        text-align: right;\n",
       "    }\n",
       "</style>\n",
       "<table border=\"1\" class=\"dataframe\">\n",
       "  <thead>\n",
       "    <tr style=\"text-align: right;\">\n",
       "      <th></th>\n",
       "      <th>회계년도</th>\n",
       "      <th>소관명</th>\n",
       "      <th>부분명</th>\n",
       "      <th>프로그램명</th>\n",
       "      <th>단위사업명</th>\n",
       "      <th>프로그램명.1</th>\n",
       "      <th>국회확정금액(천원)</th>\n",
       "    </tr>\n",
       "  </thead>\n",
       "  <tbody>\n",
       "    <tr>\n",
       "      <th>0</th>\n",
       "      <td>2019</td>\n",
       "      <td>환경부</td>\n",
       "      <td>환경일반</td>\n",
       "      <td>회계간거래(전출금)</td>\n",
       "      <td>회계간전출</td>\n",
       "      <td>환경개선특별회계 전출</td>\n",
       "      <td>3166085000</td>\n",
       "    </tr>\n",
       "    <tr>\n",
       "      <th>1</th>\n",
       "      <td>2019</td>\n",
       "      <td>환경부</td>\n",
       "      <td>물류등기타</td>\n",
       "      <td>국토교통연구개발</td>\n",
       "      <td>건설기술혁신(R&amp;D)</td>\n",
       "      <td>물관리연구(R&amp;D)</td>\n",
       "      <td>17055000</td>\n",
       "    </tr>\n",
       "    <tr>\n",
       "      <th>2</th>\n",
       "      <td>2019</td>\n",
       "      <td>환경부</td>\n",
       "      <td>물류등기타</td>\n",
       "      <td>국토교통연구개발</td>\n",
       "      <td>건설기술혁신(R&amp;D)</td>\n",
       "      <td>수요대응형 물공급서비스 연구(R&amp;D)</td>\n",
       "      <td>4280000</td>\n",
       "    </tr>\n",
       "    <tr>\n",
       "      <th>3</th>\n",
       "      <td>2019</td>\n",
       "      <td>환경부</td>\n",
       "      <td>물류등기타</td>\n",
       "      <td>국토교통연구개발</td>\n",
       "      <td>건설기술혁신(R&amp;D)</td>\n",
       "      <td>지능형도시수자원관리(R&amp;D)</td>\n",
       "      <td>500000</td>\n",
       "    </tr>\n",
       "    <tr>\n",
       "      <th>4</th>\n",
       "      <td>2019</td>\n",
       "      <td>환경부</td>\n",
       "      <td>물류등기타</td>\n",
       "      <td>국토교통연구개발</td>\n",
       "      <td>플랜트연구</td>\n",
       "      <td>플랜트연구(R&amp;D)</td>\n",
       "      <td>11893000</td>\n",
       "    </tr>\n",
       "    <tr>\n",
       "      <th>...</th>\n",
       "      <td>...</td>\n",
       "      <td>...</td>\n",
       "      <td>...</td>\n",
       "      <td>...</td>\n",
       "      <td>...</td>\n",
       "      <td>...</td>\n",
       "      <td>...</td>\n",
       "    </tr>\n",
       "    <tr>\n",
       "      <th>1195</th>\n",
       "      <td>2021</td>\n",
       "      <td>환경부</td>\n",
       "      <td>환경일반</td>\n",
       "      <td>환경행정 지원</td>\n",
       "      <td>기금운영비(석면피해구제기금)</td>\n",
       "      <td>정보화경비(정보화)</td>\n",
       "      <td>155000</td>\n",
       "    </tr>\n",
       "    <tr>\n",
       "      <th>1196</th>\n",
       "      <td>2021</td>\n",
       "      <td>환경부</td>\n",
       "      <td>환경일반</td>\n",
       "      <td>여유자금운용</td>\n",
       "      <td>여유자금운용(석면피해구제기금)</td>\n",
       "      <td>통화금융기관예치</td>\n",
       "      <td>16524000</td>\n",
       "    </tr>\n",
       "    <tr>\n",
       "      <th>1197</th>\n",
       "      <td>2021</td>\n",
       "      <td>환경부</td>\n",
       "      <td>기후대기및환경안전</td>\n",
       "      <td>환경보건관리</td>\n",
       "      <td>환경위해 관리</td>\n",
       "      <td>석면피해구제급여</td>\n",
       "      <td>17040000</td>\n",
       "    </tr>\n",
       "    <tr>\n",
       "      <th>1198</th>\n",
       "      <td>2021</td>\n",
       "      <td>환경부</td>\n",
       "      <td>기후대기및환경안전</td>\n",
       "      <td>환경보건관리</td>\n",
       "      <td>환경위해 관리</td>\n",
       "      <td>석면건강영향조사</td>\n",
       "      <td>742000</td>\n",
       "    </tr>\n",
       "    <tr>\n",
       "      <th>1199</th>\n",
       "      <td>2021</td>\n",
       "      <td>환경부</td>\n",
       "      <td>기후대기및환경안전</td>\n",
       "      <td>환경보건관리</td>\n",
       "      <td>환경위해 관리</td>\n",
       "      <td>석면안전관리사업</td>\n",
       "      <td>2916000</td>\n",
       "    </tr>\n",
       "  </tbody>\n",
       "</table>\n",
       "<p>1200 rows × 7 columns</p>\n",
       "</div>"
      ],
      "text/plain": [
       "      회계년도  소관명        부분명       프로그램명             단위사업명  \\\n",
       "0     2019  환경부       환경일반  회계간거래(전출금)             회계간전출   \n",
       "1     2019  환경부      물류등기타    국토교통연구개발       건설기술혁신(R&D)   \n",
       "2     2019  환경부      물류등기타    국토교통연구개발       건설기술혁신(R&D)   \n",
       "3     2019  환경부      물류등기타    국토교통연구개발       건설기술혁신(R&D)   \n",
       "4     2019  환경부      물류등기타    국토교통연구개발             플랜트연구   \n",
       "...    ...  ...        ...         ...               ...   \n",
       "1195  2021  환경부       환경일반     환경행정 지원   기금운영비(석면피해구제기금)   \n",
       "1196  2021  환경부       환경일반      여유자금운용  여유자금운용(석면피해구제기금)   \n",
       "1197  2021  환경부  기후대기및환경안전      환경보건관리           환경위해 관리   \n",
       "1198  2021  환경부  기후대기및환경안전      환경보건관리           환경위해 관리   \n",
       "1199  2021  환경부  기후대기및환경안전      환경보건관리           환경위해 관리   \n",
       "\n",
       "                   프로그램명.1  국회확정금액(천원)  \n",
       "0              환경개선특별회계 전출  3166085000  \n",
       "1               물관리연구(R&D)    17055000  \n",
       "2     수요대응형 물공급서비스 연구(R&D)     4280000  \n",
       "3          지능형도시수자원관리(R&D)      500000  \n",
       "4               플랜트연구(R&D)    11893000  \n",
       "...                    ...         ...  \n",
       "1195            정보화경비(정보화)      155000  \n",
       "1196              통화금융기관예치    16524000  \n",
       "1197              석면피해구제급여    17040000  \n",
       "1198              석면건강영향조사      742000  \n",
       "1199              석면안전관리사업     2916000  \n",
       "\n",
       "[1200 rows x 7 columns]"
      ]
     },
     "execution_count": 7,
     "metadata": {},
     "output_type": "execute_result"
    }
   ],
   "source": [
    "env_budget_df = pd.read_csv(r\"env_budget.csv\")\n",
    "env_budget_df.astype({'국회확정금액(천원)': 'int64'})"
   ]
  },
  {
   "cell_type": "code",
   "execution_count": 8,
   "id": "explicit-aerospace",
   "metadata": {},
   "outputs": [],
   "source": [
    "env_group_df = env_budget_df.groupby([\"회계년도\", \"부분명\"], as_index=False)[\"국회확정금액(천원)\"].sum().set_index('회계년도')"
   ]
  },
  {
   "cell_type": "code",
   "execution_count": 9,
   "id": "boxed-shareware",
   "metadata": {},
   "outputs": [],
   "source": [
    "env_budget_sum = env_budget_df.groupby(['회계년도'], as_index=False)['국회확정금액(천원)'].sum().set_index('회계년도')\n",
    "\n",
    "env_group_df['부분예산/환경부예산(%)'] = round(env_group_df['국회확정금액(천원)'].div(env_budget_sum['국회확정금액(천원)'])*100,2)"
   ]
  },
  {
   "cell_type": "code",
   "execution_count": 10,
   "id": "light-thong",
   "metadata": {
    "scrolled": false
   },
   "outputs": [
    {
     "data": {
      "text/html": [
       "<div>\n",
       "<style scoped>\n",
       "    .dataframe tbody tr th:only-of-type {\n",
       "        vertical-align: middle;\n",
       "    }\n",
       "\n",
       "    .dataframe tbody tr th {\n",
       "        vertical-align: top;\n",
       "    }\n",
       "\n",
       "    .dataframe thead th {\n",
       "        text-align: right;\n",
       "    }\n",
       "</style>\n",
       "<table border=\"1\" class=\"dataframe\">\n",
       "  <thead>\n",
       "    <tr style=\"text-align: right;\">\n",
       "      <th></th>\n",
       "      <th>부분명</th>\n",
       "      <th>국회확정금액(천원)</th>\n",
       "      <th>부분예산/환경부예산(%)</th>\n",
       "    </tr>\n",
       "    <tr>\n",
       "      <th>회계년도</th>\n",
       "      <th></th>\n",
       "      <th></th>\n",
       "      <th></th>\n",
       "    </tr>\n",
       "  </thead>\n",
       "  <tbody>\n",
       "    <tr>\n",
       "      <th>2019</th>\n",
       "      <td>기후대기및환경안전</td>\n",
       "      <td>1380776000</td>\n",
       "      <td>11.88</td>\n",
       "    </tr>\n",
       "    <tr>\n",
       "      <th>2019</th>\n",
       "      <td>물류등기타</td>\n",
       "      <td>60054000</td>\n",
       "      <td>0.52</td>\n",
       "    </tr>\n",
       "    <tr>\n",
       "      <th>2019</th>\n",
       "      <td>물환경</td>\n",
       "      <td>4072467000</td>\n",
       "      <td>35.04</td>\n",
       "    </tr>\n",
       "    <tr>\n",
       "      <th>2019</th>\n",
       "      <td>산업단지</td>\n",
       "      <td>39741000</td>\n",
       "      <td>0.34</td>\n",
       "    </tr>\n",
       "    <tr>\n",
       "      <th>2019</th>\n",
       "      <td>수자원</td>\n",
       "      <td>640187000</td>\n",
       "      <td>5.51</td>\n",
       "    </tr>\n",
       "    <tr>\n",
       "      <th>2019</th>\n",
       "      <td>자연환경</td>\n",
       "      <td>637910000</td>\n",
       "      <td>5.49</td>\n",
       "    </tr>\n",
       "    <tr>\n",
       "      <th>2019</th>\n",
       "      <td>자원순환및환경경제</td>\n",
       "      <td>670763000</td>\n",
       "      <td>5.77</td>\n",
       "    </tr>\n",
       "    <tr>\n",
       "      <th>2019</th>\n",
       "      <td>환경일반</td>\n",
       "      <td>4120986000</td>\n",
       "      <td>35.46</td>\n",
       "    </tr>\n",
       "    <tr>\n",
       "      <th>2020</th>\n",
       "      <td>기후대기및환경안전</td>\n",
       "      <td>2709636000</td>\n",
       "      <td>17.93</td>\n",
       "    </tr>\n",
       "    <tr>\n",
       "      <th>2020</th>\n",
       "      <td>물류등기타</td>\n",
       "      <td>60827000</td>\n",
       "      <td>0.40</td>\n",
       "    </tr>\n",
       "    <tr>\n",
       "      <th>2020</th>\n",
       "      <td>물환경</td>\n",
       "      <td>4309498000</td>\n",
       "      <td>28.52</td>\n",
       "    </tr>\n",
       "    <tr>\n",
       "      <th>2020</th>\n",
       "      <td>수자원</td>\n",
       "      <td>737808000</td>\n",
       "      <td>4.88</td>\n",
       "    </tr>\n",
       "    <tr>\n",
       "      <th>2020</th>\n",
       "      <td>자연환경</td>\n",
       "      <td>657888000</td>\n",
       "      <td>4.35</td>\n",
       "    </tr>\n",
       "    <tr>\n",
       "      <th>2020</th>\n",
       "      <td>자원순환및환경경제</td>\n",
       "      <td>817248000</td>\n",
       "      <td>5.41</td>\n",
       "    </tr>\n",
       "    <tr>\n",
       "      <th>2020</th>\n",
       "      <td>환경일반</td>\n",
       "      <td>5819609000</td>\n",
       "      <td>38.51</td>\n",
       "    </tr>\n",
       "    <tr>\n",
       "      <th>2021</th>\n",
       "      <td>기후대기및환경안전</td>\n",
       "      <td>3410185000</td>\n",
       "      <td>19.78</td>\n",
       "    </tr>\n",
       "    <tr>\n",
       "      <th>2021</th>\n",
       "      <td>물류등기타</td>\n",
       "      <td>60280000</td>\n",
       "      <td>0.35</td>\n",
       "    </tr>\n",
       "    <tr>\n",
       "      <th>2021</th>\n",
       "      <td>물환경</td>\n",
       "      <td>4616461000</td>\n",
       "      <td>26.78</td>\n",
       "    </tr>\n",
       "    <tr>\n",
       "      <th>2021</th>\n",
       "      <td>수자원</td>\n",
       "      <td>778900000</td>\n",
       "      <td>4.52</td>\n",
       "    </tr>\n",
       "    <tr>\n",
       "      <th>2021</th>\n",
       "      <td>자연환경</td>\n",
       "      <td>831665000</td>\n",
       "      <td>4.82</td>\n",
       "    </tr>\n",
       "    <tr>\n",
       "      <th>2021</th>\n",
       "      <td>자원순환및환경경제</td>\n",
       "      <td>1191261000</td>\n",
       "      <td>6.91</td>\n",
       "    </tr>\n",
       "    <tr>\n",
       "      <th>2021</th>\n",
       "      <td>환경일반</td>\n",
       "      <td>6349468000</td>\n",
       "      <td>36.83</td>\n",
       "    </tr>\n",
       "  </tbody>\n",
       "</table>\n",
       "</div>"
      ],
      "text/plain": [
       "            부분명  국회확정금액(천원)  부분예산/환경부예산(%)\n",
       "회계년도                                      \n",
       "2019  기후대기및환경안전  1380776000          11.88\n",
       "2019      물류등기타    60054000           0.52\n",
       "2019        물환경  4072467000          35.04\n",
       "2019       산업단지    39741000           0.34\n",
       "2019        수자원   640187000           5.51\n",
       "2019       자연환경   637910000           5.49\n",
       "2019  자원순환및환경경제   670763000           5.77\n",
       "2019       환경일반  4120986000          35.46\n",
       "2020  기후대기및환경안전  2709636000          17.93\n",
       "2020      물류등기타    60827000           0.40\n",
       "2020        물환경  4309498000          28.52\n",
       "2020        수자원   737808000           4.88\n",
       "2020       자연환경   657888000           4.35\n",
       "2020  자원순환및환경경제   817248000           5.41\n",
       "2020       환경일반  5819609000          38.51\n",
       "2021  기후대기및환경안전  3410185000          19.78\n",
       "2021      물류등기타    60280000           0.35\n",
       "2021        물환경  4616461000          26.78\n",
       "2021        수자원   778900000           4.52\n",
       "2021       자연환경   831665000           4.82\n",
       "2021  자원순환및환경경제  1191261000           6.91\n",
       "2021       환경일반  6349468000          36.83"
      ]
     },
     "execution_count": 10,
     "metadata": {},
     "output_type": "execute_result"
    }
   ],
   "source": [
    "env_group_df"
   ]
  },
  {
   "cell_type": "markdown",
   "id": "worst-berry",
   "metadata": {},
   "source": [
    "## Tableau"
   ]
  },
  {
   "cell_type": "code",
   "execution_count": null,
   "id": "latin-truck",
   "metadata": {},
   "outputs": [],
   "source": []
  },
  {
   "cell_type": "code",
   "execution_count": null,
   "id": "altered-monthly",
   "metadata": {},
   "outputs": [],
   "source": []
  },
  {
   "cell_type": "code",
   "execution_count": null,
   "id": "accomplished-medicare",
   "metadata": {},
   "outputs": [],
   "source": []
  },
  {
   "cell_type": "markdown",
   "id": "listed-chess",
   "metadata": {
    "scrolled": false
   },
   "source": [
    "<div class='tableauPlaceholder' id='viz1631164329102' style='position: relative'><noscript><a href='#'><img alt='대시보드 1 ' src='https:&#47;&#47;public.tableau.com&#47;static&#47;images&#47;3_&#47;3_16310763144560&#47;1_1&#47;1_rss.png' style='border: none' /></a></noscript><object class='tableauViz'  style='display:none;'><param name='host_url' value='https%3A%2F%2Fpublic.tableau.com%2F' /> <param name='embed_code_version' value='3' /> <param name='site_root' value='' /><param name='name' value='3_16310763144560&#47;1_1' /><param name='tabs' value='no' /><param name='toolbar' value='yes' /><param name='static_image' value='https:&#47;&#47;public.tableau.com&#47;static&#47;images&#47;3_&#47;3_16310763144560&#47;1_1&#47;1.png' /> <param name='animate_transition' value='yes' /><param name='display_static_image' value='yes' /><param name='display_spinner' value='yes' /><param name='display_overlay' value='yes' /><param name='display_count' value='yes' /><param name='language' value='ko-KR' /><param name='filter' value='publish=yes' /></object></div>                <script type='text/javascript'>                    var divElement = document.getElementById('viz1631164329102');                    var vizElement = divElement.getElementsByTagName('object')[0];                    if ( divElement.offsetWidth > 800 ) { vizElement.style.width='970px';vizElement.style.height='627px';} else if ( divElement.offsetWidth > 500 ) { vizElement.style.width='970px';vizElement.style.height='627px';} else { vizElement.style.width='100%';vizElement.style.height='727px';}                     var scriptElement = document.createElement('script');                    scriptElement.src = 'https://public.tableau.com/javascripts/api/viz_v1.js';                    vizElement.parentNode.insertBefore(scriptElement, vizElement);                </script>"
   ]
  },
  {
   "cell_type": "markdown",
   "id": "touched-effort",
   "metadata": {},
   "source": [
    "# 그래프4"
   ]
  },
  {
   "cell_type": "markdown",
   "id": "ignored-accused",
   "metadata": {},
   "source": [
    "## Tableau"
   ]
  },
  {
   "cell_type": "markdown",
   "id": "informational-consent",
   "metadata": {},
   "source": [
    "<div class='tableauPlaceholder' id='viz1631164341970' style='position: relative'><noscript><a href='#'><img alt='대시보드 3 ' src='https:&#47;&#47;public.tableau.com&#47;static&#47;images&#47;4_&#47;4_16311076220830&#47;3&#47;1_rss.png' style='border: none' /></a></noscript><object class='tableauViz'  style='display:none;'><param name='host_url' value='https%3A%2F%2Fpublic.tableau.com%2F' /> <param name='embed_code_version' value='3' /> <param name='site_root' value='' /><param name='name' value='4_16311076220830&#47;3' /><param name='tabs' value='no' /><param name='toolbar' value='yes' /><param name='static_image' value='https:&#47;&#47;public.tableau.com&#47;static&#47;images&#47;4_&#47;4_16311076220830&#47;3&#47;1.png' /> <param name='animate_transition' value='yes' /><param name='display_static_image' value='yes' /><param name='display_spinner' value='yes' /><param name='display_overlay' value='yes' /><param name='display_count' value='yes' /><param name='language' value='ko-KR' /><param name='filter' value='publish=yes' /></object></div>                <script type='text/javascript'>                    var divElement = document.getElementById('viz1631164341970');                    var vizElement = divElement.getElementsByTagName('object')[0];                    if ( divElement.offsetWidth > 800 ) { vizElement.style.width='900px';vizElement.style.height='627px';} else if ( divElement.offsetWidth > 500 ) { vizElement.style.width='900px';vizElement.style.height='627px';} else { vizElement.style.width='100%';vizElement.style.height='977px';}                     var scriptElement = document.createElement('script');                    scriptElement.src = 'https://public.tableau.com/javascripts/api/viz_v1.js';                    vizElement.parentNode.insertBefore(scriptElement, vizElement);                </script>"
   ]
  },
  {
   "cell_type": "markdown",
   "id": "ahead-federation",
   "metadata": {},
   "source": [
    "# 그래프5"
   ]
  },
  {
   "cell_type": "code",
   "execution_count": 11,
   "id": "loaded-postage",
   "metadata": {
    "scrolled": false
   },
   "outputs": [
    {
     "data": {
      "text/html": [
       "<div>\n",
       "<style scoped>\n",
       "    .dataframe tbody tr th:only-of-type {\n",
       "        vertical-align: middle;\n",
       "    }\n",
       "\n",
       "    .dataframe tbody tr th {\n",
       "        vertical-align: top;\n",
       "    }\n",
       "\n",
       "    .dataframe thead th {\n",
       "        text-align: right;\n",
       "    }\n",
       "</style>\n",
       "<table border=\"1\" class=\"dataframe\">\n",
       "  <thead>\n",
       "    <tr style=\"text-align: right;\">\n",
       "      <th></th>\n",
       "      <th>연도</th>\n",
       "      <th>연료별</th>\n",
       "      <th>계</th>\n",
       "    </tr>\n",
       "  </thead>\n",
       "  <tbody>\n",
       "    <tr>\n",
       "      <th>0</th>\n",
       "      <td>2018</td>\n",
       "      <td>전기</td>\n",
       "      <td>9564</td>\n",
       "    </tr>\n",
       "    <tr>\n",
       "      <th>1</th>\n",
       "      <td>2018</td>\n",
       "      <td>CNG</td>\n",
       "      <td>9635</td>\n",
       "    </tr>\n",
       "    <tr>\n",
       "      <th>2</th>\n",
       "      <td>2018</td>\n",
       "      <td>수소</td>\n",
       "      <td>84</td>\n",
       "    </tr>\n",
       "    <tr>\n",
       "      <th>3</th>\n",
       "      <td>2018</td>\n",
       "      <td>전체</td>\n",
       "      <td>3124651</td>\n",
       "    </tr>\n",
       "    <tr>\n",
       "      <th>4</th>\n",
       "      <td>2018</td>\n",
       "      <td>전기</td>\n",
       "      <td>9329</td>\n",
       "    </tr>\n",
       "    <tr>\n",
       "      <th>...</th>\n",
       "      <td>...</td>\n",
       "      <td>...</td>\n",
       "      <td>...</td>\n",
       "    </tr>\n",
       "    <tr>\n",
       "      <th>139</th>\n",
       "      <td>2020</td>\n",
       "      <td>전체</td>\n",
       "      <td>3123984</td>\n",
       "    </tr>\n",
       "    <tr>\n",
       "      <th>140</th>\n",
       "      <td>2020</td>\n",
       "      <td>전기</td>\n",
       "      <td>15353</td>\n",
       "    </tr>\n",
       "    <tr>\n",
       "      <th>141</th>\n",
       "      <td>2020</td>\n",
       "      <td>CNG</td>\n",
       "      <td>9429</td>\n",
       "    </tr>\n",
       "    <tr>\n",
       "      <th>142</th>\n",
       "      <td>2020</td>\n",
       "      <td>수소</td>\n",
       "      <td>603</td>\n",
       "    </tr>\n",
       "    <tr>\n",
       "      <th>143</th>\n",
       "      <td>2020</td>\n",
       "      <td>전체</td>\n",
       "      <td>3127566</td>\n",
       "    </tr>\n",
       "  </tbody>\n",
       "</table>\n",
       "<p>144 rows × 3 columns</p>\n",
       "</div>"
      ],
      "text/plain": [
       "       연도  연료별        계\n",
       "0    2018   전기     9564\n",
       "1    2018  CNG     9635\n",
       "2    2018   수소       84\n",
       "3    2018   전체  3124651\n",
       "4    2018   전기     9329\n",
       "..    ...  ...      ...\n",
       "139  2020   전체  3123984\n",
       "140  2020   전기    15353\n",
       "141  2020  CNG     9429\n",
       "142  2020   수소      603\n",
       "143  2020   전체  3127566\n",
       "\n",
       "[144 rows x 3 columns]"
      ]
     },
     "execution_count": 11,
     "metadata": {},
     "output_type": "execute_result"
    }
   ],
   "source": [
    "car_df = pd.read_csv(r\"car.csv\")\n",
    "car_df.drop(columns=['월'], axis=1, inplace=True)\n",
    "car_df.astype({'계': 'int64'})"
   ]
  },
  {
   "cell_type": "code",
   "execution_count": 12,
   "id": "continued-prayer",
   "metadata": {
    "scrolled": false
   },
   "outputs": [
    {
     "data": {
      "text/html": [
       "<div>\n",
       "<style scoped>\n",
       "    .dataframe tbody tr th:only-of-type {\n",
       "        vertical-align: middle;\n",
       "    }\n",
       "\n",
       "    .dataframe tbody tr th {\n",
       "        vertical-align: top;\n",
       "    }\n",
       "\n",
       "    .dataframe thead th {\n",
       "        text-align: right;\n",
       "    }\n",
       "</style>\n",
       "<table border=\"1\" class=\"dataframe\">\n",
       "  <thead>\n",
       "    <tr style=\"text-align: right;\">\n",
       "      <th></th>\n",
       "      <th>연도</th>\n",
       "      <th>연료별</th>\n",
       "      <th>계</th>\n",
       "    </tr>\n",
       "  </thead>\n",
       "  <tbody>\n",
       "    <tr>\n",
       "      <th>0</th>\n",
       "      <td>2018</td>\n",
       "      <td>CNG</td>\n",
       "      <td>116131</td>\n",
       "    </tr>\n",
       "    <tr>\n",
       "      <th>1</th>\n",
       "      <td>2018</td>\n",
       "      <td>수소</td>\n",
       "      <td>470</td>\n",
       "    </tr>\n",
       "    <tr>\n",
       "      <th>2</th>\n",
       "      <td>2018</td>\n",
       "      <td>전기</td>\n",
       "      <td>81743</td>\n",
       "    </tr>\n",
       "    <tr>\n",
       "      <th>3</th>\n",
       "      <td>2018</td>\n",
       "      <td>전체</td>\n",
       "      <td>37452115</td>\n",
       "    </tr>\n",
       "    <tr>\n",
       "      <th>4</th>\n",
       "      <td>2019</td>\n",
       "      <td>CNG</td>\n",
       "      <td>114846</td>\n",
       "    </tr>\n",
       "    <tr>\n",
       "      <th>5</th>\n",
       "      <td>2019</td>\n",
       "      <td>수소</td>\n",
       "      <td>2832</td>\n",
       "    </tr>\n",
       "    <tr>\n",
       "      <th>6</th>\n",
       "      <td>2019</td>\n",
       "      <td>전기</td>\n",
       "      <td>138614</td>\n",
       "    </tr>\n",
       "    <tr>\n",
       "      <th>7</th>\n",
       "      <td>2019</td>\n",
       "      <td>전체</td>\n",
       "      <td>37482771</td>\n",
       "    </tr>\n",
       "    <tr>\n",
       "      <th>8</th>\n",
       "      <td>2020</td>\n",
       "      <td>CNG</td>\n",
       "      <td>112274</td>\n",
       "    </tr>\n",
       "    <tr>\n",
       "      <th>9</th>\n",
       "      <td>2020</td>\n",
       "      <td>수소</td>\n",
       "      <td>13142</td>\n",
       "    </tr>\n",
       "    <tr>\n",
       "      <th>10</th>\n",
       "      <td>2020</td>\n",
       "      <td>전기</td>\n",
       "      <td>236333</td>\n",
       "    </tr>\n",
       "    <tr>\n",
       "      <th>11</th>\n",
       "      <td>2020</td>\n",
       "      <td>전체</td>\n",
       "      <td>37695902</td>\n",
       "    </tr>\n",
       "  </tbody>\n",
       "</table>\n",
       "</div>"
      ],
      "text/plain": [
       "      연도  연료별         계\n",
       "0   2018  CNG    116131\n",
       "1   2018   수소       470\n",
       "2   2018   전기     81743\n",
       "3   2018   전체  37452115\n",
       "4   2019  CNG    114846\n",
       "5   2019   수소      2832\n",
       "6   2019   전기    138614\n",
       "7   2019   전체  37482771\n",
       "8   2020  CNG    112274\n",
       "9   2020   수소     13142\n",
       "10  2020   전기    236333\n",
       "11  2020   전체  37695902"
      ]
     },
     "execution_count": 12,
     "metadata": {},
     "output_type": "execute_result"
    }
   ],
   "source": [
    "car_group_df = car_df.groupby(['연도', '연료별']).sum().reset_index()\n",
    "car_group_df"
   ]
  },
  {
   "cell_type": "markdown",
   "id": "upper-drawing",
   "metadata": {},
   "source": [
    "## Tableau"
   ]
  },
  {
   "cell_type": "markdown",
   "id": "common-colleague",
   "metadata": {
    "scrolled": false
   },
   "source": [
    "<div class='tableauPlaceholder' id='viz1631164360922' style='position: relative'><noscript><a href='#'><img alt='대시보드 4 ' src='https:&#47;&#47;public.tableau.com&#47;static&#47;images&#47;5_&#47;5_16311077210600&#47;4&#47;1_rss.png' style='border: none' /></a></noscript><object class='tableauViz'  style='display:none;'><param name='host_url' value='https%3A%2F%2Fpublic.tableau.com%2F' /> <param name='embed_code_version' value='3' /> <param name='site_root' value='' /><param name='name' value='5_16311077210600&#47;4' /><param name='tabs' value='no' /><param name='toolbar' value='yes' /><param name='static_image' value='https:&#47;&#47;public.tableau.com&#47;static&#47;images&#47;5_&#47;5_16311077210600&#47;4&#47;1.png' /> <param name='animate_transition' value='yes' /><param name='display_static_image' value='yes' /><param name='display_spinner' value='yes' /><param name='display_overlay' value='yes' /><param name='display_count' value='yes' /><param name='language' value='ko-KR' /></object></div>                <script type='text/javascript'>                    var divElement = document.getElementById('viz1631164360922');                    var vizElement = divElement.getElementsByTagName('object')[0];                    if ( divElement.offsetWidth > 800 ) { vizElement.style.width='950px';vizElement.style.height='627px';} else if ( divElement.offsetWidth > 500 ) { vizElement.style.width='950px';vizElement.style.height='627px';} else { vizElement.style.width='100%';vizElement.style.height='727px';}                     var scriptElement = document.createElement('script');                    scriptElement.src = 'https://public.tableau.com/javascripts/api/viz_v1.js';                    vizElement.parentNode.insertBefore(scriptElement, vizElement);                </script>"
   ]
  },
  {
   "cell_type": "markdown",
   "id": "respective-spotlight",
   "metadata": {},
   "source": [
    "# 그래프6"
   ]
  },
  {
   "cell_type": "markdown",
   "id": "interesting-council",
   "metadata": {},
   "source": [
    "## Tableau"
   ]
  },
  {
   "cell_type": "markdown",
   "id": "minus-memorial",
   "metadata": {
    "scrolled": false
   },
   "source": [
    "<div class='tableauPlaceholder' id='viz1631164369251' style='position: relative'><noscript><a href='#'><img alt='대시보드 5 ' src='https:&#47;&#47;public.tableau.com&#47;static&#47;images&#47;6_&#47;6_16311122730080&#47;5&#47;1_rss.png' style='border: none' /></a></noscript><object class='tableauViz'  style='display:none;'><param name='host_url' value='https%3A%2F%2Fpublic.tableau.com%2F' /> <param name='embed_code_version' value='3' /> <param name='site_root' value='' /><param name='name' value='6_16311122730080&#47;5' /><param name='tabs' value='no' /><param name='toolbar' value='yes' /><param name='static_image' value='https:&#47;&#47;public.tableau.com&#47;static&#47;images&#47;6_&#47;6_16311122730080&#47;5&#47;1.png' /> <param name='animate_transition' value='yes' /><param name='display_static_image' value='yes' /><param name='display_spinner' value='yes' /><param name='display_overlay' value='yes' /><param name='display_count' value='yes' /><param name='language' value='ko-KR' /><param name='filter' value='publish=yes' /></object></div>                <script type='text/javascript'>                    var divElement = document.getElementById('viz1631164369251');                    var vizElement = divElement.getElementsByTagName('object')[0];                    if ( divElement.offsetWidth > 800 ) { vizElement.style.width='950px';vizElement.style.height='677px';} else if ( divElement.offsetWidth > 500 ) { vizElement.style.width='950px';vizElement.style.height='677px';} else { vizElement.style.width='100%';vizElement.style.height='777px';}                     var scriptElement = document.createElement('script');                    scriptElement.src = 'https://public.tableau.com/javascripts/api/viz_v1.js';                    vizElement.parentNode.insertBefore(scriptElement, vizElement);                </script>"
   ]
  },
  {
   "cell_type": "markdown",
   "id": "intense-maintenance",
   "metadata": {},
   "source": [
    "# 그래프7"
   ]
  },
  {
   "cell_type": "code",
   "execution_count": 5,
   "id": "white-communications",
   "metadata": {
    "scrolled": false
   },
   "outputs": [
    {
     "data": {
      "text/html": [
       "<div>\n",
       "<style scoped>\n",
       "    .dataframe tbody tr th:only-of-type {\n",
       "        vertical-align: middle;\n",
       "    }\n",
       "\n",
       "    .dataframe tbody tr th {\n",
       "        vertical-align: top;\n",
       "    }\n",
       "\n",
       "    .dataframe thead th {\n",
       "        text-align: right;\n",
       "    }\n",
       "</style>\n",
       "<table border=\"1\" class=\"dataframe\">\n",
       "  <thead>\n",
       "    <tr style=\"text-align: right;\">\n",
       "      <th></th>\n",
       "      <th>국가</th>\n",
       "      <th>배출량(단위:MtCO2)</th>\n",
       "    </tr>\n",
       "  </thead>\n",
       "  <tbody>\n",
       "    <tr>\n",
       "      <th>11</th>\n",
       "      <td>남아프리카공화국</td>\n",
       "      <td>395</td>\n",
       "    </tr>\n",
       "    <tr>\n",
       "      <th>10</th>\n",
       "      <td>사우디아라비아</td>\n",
       "      <td>492</td>\n",
       "    </tr>\n",
       "    <tr>\n",
       "      <th>9</th>\n",
       "      <td>캐나다</td>\n",
       "      <td>516</td>\n",
       "    </tr>\n",
       "    <tr>\n",
       "      <th>8</th>\n",
       "      <td>인도네시아</td>\n",
       "      <td>566</td>\n",
       "    </tr>\n",
       "    <tr>\n",
       "      <th>7</th>\n",
       "      <td>대한민국</td>\n",
       "      <td>570</td>\n",
       "    </tr>\n",
       "    <tr>\n",
       "      <th>6</th>\n",
       "      <td>독일</td>\n",
       "      <td>617</td>\n",
       "    </tr>\n",
       "    <tr>\n",
       "      <th>5</th>\n",
       "      <td>이란</td>\n",
       "      <td>619</td>\n",
       "    </tr>\n",
       "    <tr>\n",
       "      <th>4</th>\n",
       "      <td>일본</td>\n",
       "      <td>979</td>\n",
       "    </tr>\n",
       "    <tr>\n",
       "      <th>3</th>\n",
       "      <td>러시아</td>\n",
       "      <td>1619</td>\n",
       "    </tr>\n",
       "    <tr>\n",
       "      <th>2</th>\n",
       "      <td>인도</td>\n",
       "      <td>2191</td>\n",
       "    </tr>\n",
       "    <tr>\n",
       "      <th>1</th>\n",
       "      <td>미국</td>\n",
       "      <td>4405</td>\n",
       "    </tr>\n",
       "    <tr>\n",
       "      <th>0</th>\n",
       "      <td>중국</td>\n",
       "      <td>9717</td>\n",
       "    </tr>\n",
       "  </tbody>\n",
       "</table>\n",
       "</div>"
      ],
      "text/plain": [
       "          국가  배출량(단위:MtCO2)\n",
       "11  남아프리카공화국            395\n",
       "10   사우디아라비아            492\n",
       "9        캐나다            516\n",
       "8      인도네시아            566\n",
       "7       대한민국            570\n",
       "6         독일            617\n",
       "5         이란            619\n",
       "4         일본            979\n",
       "3        러시아           1619\n",
       "2         인도           2191\n",
       "1         미국           4405\n",
       "0         중국           9717"
      ]
     },
     "execution_count": 5,
     "metadata": {},
     "output_type": "execute_result"
    }
   ],
   "source": [
    "co2_df = pd.read_csv(r\"co2.csv\")\n",
    "co2_df.sort_values(by=['배출량(단위:MtCO2)'],ascending=True, inplace=True)\n",
    "co2_df"
   ]
  },
  {
   "cell_type": "code",
   "execution_count": 6,
   "id": "pediatric-branch",
   "metadata": {},
   "outputs": [],
   "source": [
    "x_label = co2_df['국가']\n",
    "y_emit = co2_df['배출량(단위:MtCO2)']\n",
    "colors = sns.color_palette('tab10')"
   ]
  },
  {
   "cell_type": "code",
   "execution_count": 9,
   "id": "metropolitan-trick",
   "metadata": {
    "scrolled": false
   },
   "outputs": [
    {
     "data": {
      "image/png": "[encoded data removed]",
      "text/plain": [
       "<Figure size 720x720 with 1 Axes>"
      ]
     },
     "metadata": {
      "needs_background": "light"
     },
     "output_type": "display_data"
    }
   ],
   "source": [
    "fig = plt.figure(figsize=(10,10))\n",
    "plt.xlabel('이산화탄소 배출량 (단위: MtCO2)')\n",
    "plt.ylabel('국가')\n",
    "plt.title('국가별 이산화탄소 배출량 순위(2020년) ')\n",
    "plt.barh(x_label, y_emit, color=colors)\n",
    "plt.show()"
   ]
  },
  {
   "cell_type": "markdown",
   "id": "rising-release",
   "metadata": {},
   "source": [
    "# 그래프8"
   ]
  },
  {
   "cell_type": "code",
   "execution_count": 10,
   "id": "turned-petroleum",
   "metadata": {
    "scrolled": false
   },
   "outputs": [
    {
     "data": {
      "text/html": [
       "<div>\n",
       "<style scoped>\n",
       "    .dataframe tbody tr th:only-of-type {\n",
       "        vertical-align: middle;\n",
       "    }\n",
       "\n",
       "    .dataframe tbody tr th {\n",
       "        vertical-align: top;\n",
       "    }\n",
       "\n",
       "    .dataframe thead th {\n",
       "        text-align: right;\n",
       "    }\n",
       "</style>\n",
       "<table border=\"1\" class=\"dataframe\">\n",
       "  <thead>\n",
       "    <tr style=\"text-align: right;\">\n",
       "      <th></th>\n",
       "      <th>년도</th>\n",
       "      <th>총배출량(단위:백만톤)</th>\n",
       "      <th>증감률</th>\n",
       "    </tr>\n",
       "  </thead>\n",
       "  <tbody>\n",
       "    <tr>\n",
       "      <th>0</th>\n",
       "      <td>2009</td>\n",
       "      <td>597.983</td>\n",
       "      <td>0.695</td>\n",
       "    </tr>\n",
       "    <tr>\n",
       "      <th>1</th>\n",
       "      <td>2010</td>\n",
       "      <td>656.323</td>\n",
       "      <td>9.756</td>\n",
       "    </tr>\n",
       "    <tr>\n",
       "      <th>2</th>\n",
       "      <td>2011</td>\n",
       "      <td>684.930</td>\n",
       "      <td>4.359</td>\n",
       "    </tr>\n",
       "    <tr>\n",
       "      <th>3</th>\n",
       "      <td>2012</td>\n",
       "      <td>688.308</td>\n",
       "      <td>0.493</td>\n",
       "    </tr>\n",
       "    <tr>\n",
       "      <th>4</th>\n",
       "      <td>2013</td>\n",
       "      <td>679.384</td>\n",
       "      <td>1.319</td>\n",
       "    </tr>\n",
       "    <tr>\n",
       "      <th>5</th>\n",
       "      <td>2014</td>\n",
       "      <td>691.933</td>\n",
       "      <td>-0.782</td>\n",
       "    </tr>\n",
       "    <tr>\n",
       "      <th>6</th>\n",
       "      <td>2015</td>\n",
       "      <td>692.515</td>\n",
       "      <td>0.084</td>\n",
       "    </tr>\n",
       "    <tr>\n",
       "      <th>7</th>\n",
       "      <td>2016</td>\n",
       "      <td>693.535</td>\n",
       "      <td>0.147</td>\n",
       "    </tr>\n",
       "    <tr>\n",
       "      <th>8</th>\n",
       "      <td>2017</td>\n",
       "      <td>709.750</td>\n",
       "      <td>2.338</td>\n",
       "    </tr>\n",
       "    <tr>\n",
       "      <th>9</th>\n",
       "      <td>2018</td>\n",
       "      <td>727.633</td>\n",
       "      <td>2.520</td>\n",
       "    </tr>\n",
       "  </tbody>\n",
       "</table>\n",
       "</div>"
      ],
      "text/plain": [
       "     년도  총배출량(단위:백만톤)    증감률\n",
       "0  2009       597.983  0.695\n",
       "1  2010       656.323  9.756\n",
       "2  2011       684.930  4.359\n",
       "3  2012       688.308  0.493\n",
       "4  2013       679.384  1.319\n",
       "5  2014       691.933 -0.782\n",
       "6  2015       692.515  0.084\n",
       "7  2016       693.535  0.147\n",
       "8  2017       709.750  2.338\n",
       "9  2018       727.633  2.520"
      ]
     },
     "execution_count": 10,
     "metadata": {},
     "output_type": "execute_result"
    }
   ],
   "source": [
    "co2_emmisions_df = pd.read_csv(r\"co2_emmisions.csv\")\n",
    "co2_emmisions_df"
   ]
  },
  {
   "cell_type": "code",
   "execution_count": 11,
   "id": "indie-scope",
   "metadata": {},
   "outputs": [],
   "source": [
    "year = co2_emmisions_df['년도']\n",
    "emmisions = co2_emmisions_df['총배출량(단위:백만톤)']\n",
    "change_rate = co2_emmisions_df['증감률']"
   ]
  },
  {
   "cell_type": "code",
   "execution_count": 48,
   "id": "applicable-atlas",
   "metadata": {},
   "outputs": [
    {
     "data": {
      "image/png": "[encoded data removed]",
      "text/plain": [
       "<Figure size 864x432 with 2 Axes>"
      ]
     },
     "metadata": {
      "needs_background": "light"
     },
     "output_type": "display_data"
    }
   ],
   "source": [
    "fig, ax1 = plt.subplots(figsize=(12,6))\n",
    "\n",
    "plt.title('대한민국 온실가스 총배출량 및 증감률')\n",
    "\n",
    "ax1.plot(year, change_rate, '-s', color='orange', linewidth=2, alpha=0.8, markersize=5, marker='o')\n",
    "ax1.set_ylim(-5,15)\n",
    "ax1.set_xlabel('년도')\n",
    "ax1.set_ylabel('증감률')\n",
    "\n",
    "ax2 = ax1.twinx()\n",
    "ax2.bar(year, emmisions, color='green', alpha=0.5, width=0.8)\n",
    "ax2.set_ylabel('총 배출량(단위: 백만톤)')\n",
    "ax2.set_ylim(525,750)\n",
    "\n",
    "ax1.set_zorder(ax2.get_zorder() + 10)\n",
    "ax1.patch.set_visible(False)\n",
    "\n",
    "plt.show()"
   ]
  },
  {
   "cell_type": "markdown",
   "id": "decent-growth",
   "metadata": {},
   "source": [
    "# 원본 데이터"
   ]
  },
  {
   "cell_type": "markdown",
   "id": "efficient-chick",
   "metadata": {},
   "source": [
    "url: 구글 드라이브에 저장된 csv 파일들"
   ]
  },
  {
   "cell_type": "markdown",
   "id": "certain-telescope",
   "metadata": {},
   "source": [
    "# 출처"
   ]
  },
  {
   "cell_type": "markdown",
   "id": "backed-support",
   "metadata": {},
   "source": [
    "데이터 출처"
   ]
  },
  {
   "cell_type": "markdown",
   "id": "atmospheric-boundary",
   "metadata": {},
   "source": [
    "# 추가할 것"
   ]
  },
  {
   "cell_type": "markdown",
   "id": "homeless-vegetable",
   "metadata": {},
   "source": [
    "- 국내 온실가스 총 배출량 및 증가량\n",
    "- Tableau, python 그래프 색 통일\n",
    "- 개요 작성\n",
    "- wordcloud"
   ]
  },
  {
   "cell_type": "markdown",
   "id": "agricultural-beginning",
   "metadata": {},
   "source": [
    "# 전처리"
   ]
  },
  {
   "cell_type": "markdown",
   "id": "personalized-polish",
   "metadata": {},
   "source": [
    "이하 코드는 공공 재정데이터 API호출 및 전처리를 위한 소스코드입니다. 해당 코드를 사용해 데이터 전처리 및 저장해 시각화에 사용했습니다."
   ]
  },
  {
   "cell_type": "code",
   "execution_count": null,
   "id": "administrative-patch",
   "metadata": {},
   "outputs": [],
   "source": [
    "import pandas as pd\n",
    "import requests\n",
    "\n",
    "from bs4 import BeautifulSoup"
   ]
  },
  {
   "cell_type": "code",
   "execution_count": null,
   "id": "referenced-mystery",
   "metadata": {},
   "outputs": [],
   "source": [
    "# 재정데이터 받아오기\n",
    "pIndex = 1\n",
    "rows = []\n",
    "years = ['2019', '2020', '2021']\n",
    "\n",
    "# 공공데이터 API 호출을 위한 개인 private key\n",
    "key = \"CHANGE ME\"\n",
    "\n",
    "# 데이터 받아오기\n",
    "try:\n",
    "    for year in years:\n",
    "        print(year + \"년도 예산 데이터 받아오는중...\")\n",
    "        pIndex = 1\n",
    "        \n",
    "        for _ in range(10):\n",
    "            url = f\"http://openapi.openfiscaldata.go.kr/ExpenditureBudgetInit3?FSCL_YY={year}&pSize=1000&Key={key}&pIndex={pIndex}\"\n",
    "            \n",
    "            res = requests.get(url)\n",
    "            soup = BeautifulSoup(res.content, 'html.parser')\n",
    "\n",
    "            for i in soup.find_all('row'):\n",
    "                rows.append({\"FSCL_YY\": i.fscl_yy.string,\n",
    "                             \"OFFC_NM\": i.offc_nm.string,\n",
    "                             \"Y_YY_DFN_MEDI_KCUR_AMT\": i.y_yy_dfn_medi_kcur_amt.string})\n",
    "            pIndex += 1\n",
    "            \n",
    "        print(\"완료\")\n",
    "\n",
    "except requests.exceptions.RequestException as e:\n",
    "    print(e)\n",
    "            \n",
    "budget_df = pd.DataFrame(rows)\n",
    "budget_df.columns = [\"회계년도\", \"소관명\", \"국회확정금액(천원)\"]"
   ]
  },
  {
   "cell_type": "code",
   "execution_count": null,
   "id": "bored-kenya",
   "metadata": {},
   "outputs": [],
   "source": [
    "budget_df.to_csv(\"./budget.csv\", index=False)"
   ]
  },
  {
   "cell_type": "code",
   "execution_count": null,
   "id": "funky-poison",
   "metadata": {},
   "outputs": [],
   "source": [
    "# 재정데이터 중 환경부 예산 받아오기\n",
    "pIndex = 1\n",
    "rows = []\n",
    "years = ['2019', '2020', '2021']\n",
    "\n",
    "try:\n",
    "    for year in years:\n",
    "        print(year + \"년도 환경부 예산 데이터 받아오는중...\")\n",
    "        pIndex = 1\n",
    "        \n",
    "        for _ in range(10):\n",
    "            url = f\"http://openapi.openfiscaldata.go.kr/ExpenditureBudgetInit3?OFFC_NM=환경부&FSCL_YY={year}&pSize=1000&Key={key}&pIndex={pIndex}\"\n",
    "            \n",
    "            res = requests.get(url)\n",
    "            soup = BeautifulSoup(res.content, 'html.parser')\n",
    "\n",
    "            for i in soup.find_all('row'):\n",
    "                rows.append({\"FSCL_YY\": i.fscl_yy.string,\n",
    "                             \"OFFC_NM\": i.offc_nm.string,\n",
    "                             \"SECT_NM\": i.sect_nm.string,\n",
    "                             \"PGM_NM\": i.pgm_nm.string,\n",
    "                             \"ACTV_NM\": i.actv_nm.string,\n",
    "                             \"SACTV_NM\": i.sactv_nm.string,\n",
    "                             \"Y_YY_DFN_MEDI_KCUR_AMT\": i.y_yy_dfn_medi_kcur_amt.string})\n",
    "            pIndex += 1\n",
    "            \n",
    "        print(\"완료\")\n",
    "\n",
    "except requests.exceptions.RequestException as e:\n",
    "    print(e)\n",
    "    \n",
    "env_budget_df = pd.DataFrame(rows)\n",
    "env_budget_df.columns = [\"회계년도\", \"소관명\", \"부분명\", \"프로그램명\", \"단위사업명\", \"프로그램명\", \"국회확정금액(천원)\"]"
   ]
  },
  {
   "cell_type": "code",
   "execution_count": null,
   "id": "aggregate-syria",
   "metadata": {},
   "outputs": [],
   "source": [
    "env_budget_df.to_csv(\"./env_budget.csv\", index=False)"
   ]
  }
 ],
 "metadata": {
  "kernelspec": {
   "display_name": "Python 3",
   "language": "python",
   "name": "python3"
  },
  "language_info": {
   "codemirror_mode": {
    "name": "ipython",
    "version": 3
   },
   "file_extension": ".py",
   "mimetype": "text/x-python",
   "name": "python",
   "nbconvert_exporter": "python",
   "pygments_lexer": "ipython3",
   "version": "3.8.8"
  }
 },
 "nbformat": 4,
 "nbformat_minor": 5
}
